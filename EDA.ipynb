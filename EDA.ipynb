{
 "cells": [
  {
   "cell_type": "markdown",
   "metadata": {},
   "source": [
    "### Colorectal Dataste"
   ]
  },
  {
   "cell_type": "code",
   "execution_count": 1,
   "metadata": {},
   "outputs": [],
   "source": [
    "import pandas as pd"
   ]
  },
  {
   "cell_type": "code",
   "execution_count": 18,
   "metadata": {},
   "outputs": [
    {
     "name": "stdout",
     "output_type": "stream",
     "text": [
      "Sex distribution:\n",
      " sex\n",
      "Male      604\n",
      "Female    446\n",
      "Name: count, dtype: int64\n",
      "Disease distribution:\n",
      " disease\n",
      "Disease    586\n",
      "Case       464\n",
      "Name: count, dtype: int64\n"
     ]
    }
   ],
   "source": [
    "import pandas as pd\n",
    "\n",
    "# Load your dataset (adjust the file path as needed)\n",
    "data = pd.read_csv(\"dataset/CRC_data/crc_metadata_PRJEB6070.csv\")\n",
    "\n",
    "# Recode the variables:\n",
    "# For sex: 0 becomes 'Male', 1 becomes 'Female'\n",
    "# For disease: 0 becomes 'Case', 1 becomes 'Disease'\n",
    "data['sex'] = data['sex'].map({0: 'Male', 1: 'Female'})\n",
    "data['disease'] = data['disease'].map({0: 'Case', 1: 'Disease'})\n",
    "\n",
    "# Check the recoding by looking at the first few rows and value counts\n",
    "# print(data.head())\n",
    "print(\"Sex distribution:\\n\", data['sex'].value_counts())\n",
    "print(\"Disease distribution:\\n\", data['disease'].value_counts())\n"
   ]
  },
  {
   "cell_type": "code",
   "execution_count": 19,
   "metadata": {},
   "outputs": [
    {
     "data": {
      "image/png": "[encoded data removed]",
      "text/plain": [
       "<Figure size 800x600 with 1 Axes>"
      ]
     },
     "metadata": {},
     "output_type": "display_data"
    }
   ],
   "source": [
    "import seaborn as sns\n",
    "import matplotlib.pyplot as plt\n",
    "\n",
    "sns.set(style=\"whitegrid\")\n",
    "\n",
    "plt.figure(figsize=(8, 6))\n",
    "sns.countplot(x='disease', hue='sex', data=data)\n",
    "plt.title('Distribution of Disease Status by Sex')\n",
    "plt.xlabel('Disease Status')\n",
    "plt.ylabel('Count')\n",
    "plt.legend(title='Sex')\n",
    "plt.show()\n"
   ]
  },
  {
   "cell_type": "markdown",
   "metadata": {},
   "source": [
    "Statistics test to see which columns are the confounder for this study"
   ]
  },
  {
   "cell_type": "code",
   "execution_count": 2,
   "metadata": {},
   "outputs": [],
   "source": [
    "import pandas as pd\n",
    "train_metadata = pd.read_csv(\"dataset/CRC_data/crc_metadata_PRJEB6070.csv\")"
   ]
  },
  {
   "cell_type": "code",
   "execution_count": 7,
   "metadata": {},
   "outputs": [],
   "source": [
    "import pandas as pd\n",
    "\n",
    "# Split the data based on disease values\n",
    "group1 = train_metadata[train_metadata['disease'] == 1]\n",
    "group2 = train_metadata[train_metadata['disease'] == 0]"
   ]
  },
  {
   "cell_type": "code",
   "execution_count": 9,
   "metadata": {},
   "outputs": [
    {
     "name": "stdout",
     "output_type": "stream",
     "text": [
      "host_age t-test: t-statistic = 7.113304, p-value = 0.000000\n",
      "BMI t-test: t-statistic = 7.580757, p-value = 0.000000\n",
      "host_age F-statistic = 50.599094\n",
      "BMI F-statistic = 57.467875\n"
     ]
    }
   ],
   "source": [
    "import scipy.stats as stats\n",
    "\n",
    "# T-test for host_age (using Welch's t-test if variances are unequal)\n",
    "t_stat_age, p_val_age = stats.ttest_ind(group1['host_age'], group2['host_age'], equal_var=False)\n",
    "print(f\"host_age t-test: t-statistic = {t_stat_age:.6f}, p-value = {p_val_age:.6f}\")\n",
    "\n",
    "# T-test for bmi (again, using Welch's t-test if needed)\n",
    "t_stat_bmi, p_val_bmi = stats.ttest_ind(group1['BMI'], group2['BMI'], equal_var=False)\n",
    "print(f\"BMI t-test: t-statistic = {t_stat_bmi:.6f}, p-value = {p_val_bmi:.6f}\")\n",
    "\n",
    "# Optionally compute the F-statistic (F = t^2)\n",
    "f_stat_age = t_stat_age**2\n",
    "f_stat_bmi = t_stat_bmi**2\n",
    "print(f\"host_age F-statistic = {f_stat_age:.6f}\")\n",
    "print(f\"BMI F-statistic = {f_stat_bmi:.6f}\")\n"
   ]
  },
  {
   "cell_type": "code",
   "execution_count": 12,
   "metadata": {},
   "outputs": [
    {
     "name": "stdout",
     "output_type": "stream",
     "text": [
      "Contingency Table:\n",
      "sex        0    1\n",
      "disease          \n",
      "0        246  218\n",
      "1        358  228\n",
      "Chi-square test for sex: chi2 = 6.584, p-value = 0.010\n"
     ]
    }
   ],
   "source": [
    "from scipy.stats import chi2_contingency\n",
    "\n",
    "# Create a contingency table for disease vs. sex\n",
    "contingency_table = pd.crosstab(train_metadata['disease'], train_metadata['sex'])\n",
    "print(\"Contingency Table:\")\n",
    "print(contingency_table)\n",
    "\n",
    "# Perform the chi-square test\n",
    "chi2, p_val_sex, dof, expected = chi2_contingency(contingency_table)\n",
    "print(f\"Chi-square test for sex: chi2 = {chi2:.3f}, p-value = {p_val_sex:.3f}\")\n"
   ]
  },
  {
   "cell_type": "code",
   "execution_count": 13,
   "metadata": {},
   "outputs": [
    {
     "name": "stdout",
     "output_type": "stream",
     "text": [
      "method name               PERMANOVA\n",
      "test statistic name        pseudo-F\n",
      "sample size                    1050\n",
      "number of groups                  2\n",
      "test statistic            51.708493\n",
      "p-value                       0.001\n",
      "number of permutations          999\n",
      "Name: PERMANOVA results, dtype: object\n"
     ]
    }
   ],
   "source": [
    "import numpy as np\n",
    "from scipy.spatial.distance import pdist, squareform\n",
    "from skbio import DistanceMatrix\n",
    "from skbio.stats.distance import permanova\n",
    "\n",
    "# Create a data matrix from host_age and bmi\n",
    "data = train_metadata[['host_age', 'BMI']].values\n",
    "\n",
    "# Compute a distance matrix (Euclidean distance)\n",
    "distances = squareform(pdist(data, metric='euclidean'))\n",
    "\n",
    "# Create a DistanceMatrix object; using the DataFrame index for identifiers\n",
    "dm = DistanceMatrix(distances, ids=train_metadata.index.astype(str))\n",
    "\n",
    "# Use the 'disease' column to form groups\n",
    "groups = train_metadata['disease'].values\n",
    "\n",
    "# Run PERMANOVA with 999 permutations\n",
    "result = permanova(dm, groups, permutations=999)\n",
    "print(result)\n"
   ]
  },
  {
   "cell_type": "markdown",
   "metadata": {},
   "source": [
    "CRC test"
   ]
  },
  {
   "cell_type": "code",
   "execution_count": 11,
   "metadata": {},
   "outputs": [],
   "source": [
    "import pandas as pd\n",
    "test_metadata = pd.read_csv(\"dataset/CRC_data/crc_metadata_PRJEB27928.csv\")"
   ]
  },
  {
   "cell_type": "code",
   "execution_count": 12,
   "metadata": {},
   "outputs": [],
   "source": [
    "import pandas as pd\n",
    "train_metadata = pd.read_csv(\"dataset/CRC_data/crc_metadata_PRJEB6070.csv\")"
   ]
  },
  {
   "cell_type": "code",
   "execution_count": 13,
   "metadata": {},
   "outputs": [
    {
     "data": {
      "text/plain": [
       "sex\n",
       "0    246\n",
       "1    218\n",
       "Name: count, dtype: int64"
      ]
     },
     "execution_count": 13,
     "metadata": {},
     "output_type": "execute_result"
    }
   ],
   "source": [
    "train_metadata[train_metadata['disease']==0]['sex'].value_counts()"
   ]
  },
  {
   "cell_type": "code",
   "execution_count": 14,
   "metadata": {},
   "outputs": [
    {
     "data": {
      "text/plain": [
       "sex\n",
       "0    358\n",
       "1    228\n",
       "Name: count, dtype: int64"
      ]
     },
     "execution_count": 14,
     "metadata": {},
     "output_type": "execute_result"
    }
   ],
   "source": [
    "train_metadata[train_metadata['disease']==1]['sex'].value_counts()"
   ]
  },
  {
   "cell_type": "code",
   "execution_count": 9,
   "metadata": {},
   "outputs": [
    {
     "data": {
      "text/plain": [
       "sex\n",
       "0    64\n",
       "1    56\n",
       "Name: count, dtype: int64"
      ]
     },
     "execution_count": 9,
     "metadata": {},
     "output_type": "execute_result"
    }
   ],
   "source": [
    "test_metadata[test_metadata['disease']==0]['sex'].value_counts()"
   ]
  },
  {
   "cell_type": "code",
   "execution_count": 10,
   "metadata": {},
   "outputs": [
    {
     "data": {
      "text/plain": [
       "sex\n",
       "0    88\n",
       "1    52\n",
       "Name: count, dtype: int64"
      ]
     },
     "execution_count": 10,
     "metadata": {},
     "output_type": "execute_result"
    }
   ],
   "source": [
    "test_metadata[test_metadata['disease']==1]['sex'].value_counts()"
   ]
  }
 ],
 "metadata": {
  "kernelspec": {
   "display_name": "confounder_free",
   "language": "python",
   "name": "python3"
  },
  "language_info": {
   "codemirror_mode": {
    "name": "ipython",
    "version": 3
   },
   "file_extension": ".py",
   "mimetype": "text/x-python",
   "name": "python",
   "nbconvert_exporter": "python",
   "pygments_lexer": "ipython3",
   "version": "3.10.16"
  }
 },
 "nbformat": 4,
 "nbformat_minor": 2
}
