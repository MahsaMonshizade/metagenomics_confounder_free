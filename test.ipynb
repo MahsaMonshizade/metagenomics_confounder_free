{
 "cells": [
  {
   "cell_type": "code",
   "execution_count": 2,
   "metadata": {},
   "outputs": [
    {
     "name": "stdout",
     "output_type": "stream",
     "text": [
      "Samples in file 1: 1320\n",
      "['ERR2726419' 'ERR2726420' 'ERR2726606' ... 'ERR2726413' 'ERR2726653'\n",
      " 'ERR2726580']\n",
      "Samples in file 2: 1300\n",
      "['ERR2726524' 'ERR2726433' 'ERR2726538' ... 'ERR2726465' 'ERR2726544'\n",
      " 'ERR2726596']\n",
      "Common samples: 260\n"
     ]
    }
   ],
   "source": [
    "import numpy as np\n",
    "\n",
    "def get_common_sample_ids(file1_path, file2_path, id_key='sample_ids'):\n",
    "    # Load both files\n",
    "    data1 = np.load(file1_path)\n",
    "    data2 = np.load(file2_path)\n",
    "\n",
    "    # Extract sample IDs\n",
    "    ids1 = data1[id_key]\n",
    "    ids2 = data2[id_key]\n",
    "\n",
    "    # Decode bytes to string if necessary\n",
    "    if isinstance(ids1[0], bytes):\n",
    "        ids1 = [x.decode('utf-8') for x in ids1]\n",
    "    if isinstance(ids2[0], bytes):\n",
    "        ids2 = [x.decode('utf-8') for x in ids2]\n",
    "\n",
    "    ids1 = np.array(ids1)\n",
    "    ids2 = np.array(ids2)\n",
    "\n",
    "    # Find common sample IDs\n",
    "    common_ids = np.intersect1d(ids1, ids2)\n",
    "\n",
    "    print(f\"Samples in file 1: {len(ids1)}\")\n",
    "    print(ids1)\n",
    "    print(f\"Samples in file 2: {len(ids2)}\")\n",
    "    print(ids2)\n",
    "    print(f\"Common samples: {len(common_ids)}\")\n",
    "\n",
    "    return common_ids\n",
    "\n",
    "# Example usage\n",
    "file1 = \"Results/FCNN_encoder_confounder_free_plots/test_results.npz\"\n",
    "file2 = \"Results/FCNN_plots/test_results.npz\"\n",
    "common_ids = get_common_sample_ids(file1, file2)\n"
   ]
  }
 ],
 "metadata": {
  "kernelspec": {
   "display_name": "confounder_free",
   "language": "python",
   "name": "python3"
  },
  "language_info": {
   "codemirror_mode": {
    "name": "ipython",
    "version": 3
   },
   "file_extension": ".py",
   "mimetype": "text/x-python",
   "name": "python",
   "nbconvert_exporter": "python",
   "pygments_lexer": "ipython3",
   "version": "3.8.19"
  }
 },
 "nbformat": 4,
 "nbformat_minor": 2
}
