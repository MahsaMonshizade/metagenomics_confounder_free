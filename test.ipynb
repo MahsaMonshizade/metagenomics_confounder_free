{
 "cells": [
  {
   "cell_type": "code",
   "execution_count": 3,
   "metadata": {},
   "outputs": [],
   "source": [
    "import pandas as pd"
   ]
  },
  {
   "cell_type": "code",
   "execution_count": 7,
   "metadata": {},
   "outputs": [
    {
     "name": "stdout",
     "output_type": "stream",
     "text": [
      "    disease  project_count\n",
      "0   C562730              1\n",
      "1   C566241              0\n",
      "2   D001249              1\n",
      "3   D002692              1\n",
      "4   D003424              2\n",
      "5   D003550              7\n",
      "6   D006262             39\n",
      "7   D008175              0\n",
      "8   D010034              1\n",
      "9   D010300              1\n",
      "10  D011014              1\n",
      "11  D011565              1\n",
      "12  D012136              1\n",
      "13  D012141              2\n",
      "14  D012507              0\n",
      "15  D014627              2\n",
      "16  D014777              0\n",
      "17  D014890              1\n",
      "18  D016585              3\n",
      "19  D016889              0\n",
      "20  D019449              1\n",
      "21  D020345              1\n",
      "22  D029424              3\n",
      "23  D043183              1\n",
      "24  D045169              1\n",
      "25  D047928              4\n"
     ]
    }
   ],
   "source": [
    "df = pd.read_csv('Data/metadata.csv')\n",
    "result = df.groupby('disease')['our_project_id'].nunique()\n",
    "\n",
    "# If you want to see the result as a dataframe\n",
    "result_df = result.reset_index(name='project_count')\n",
    "\n",
    "print(result_df)"
   ]
  },
  {
   "cell_type": "code",
   "execution_count": 79,
   "metadata": {},
   "outputs": [],
   "source": [
    "new_df = df[df['disease'] == 'D047928']"
   ]
  },
  {
   "cell_type": "code",
   "execution_count": 80,
   "metadata": {},
   "outputs": [
    {
     "data": {
      "text/plain": [
       "954"
      ]
     },
     "execution_count": 80,
     "metadata": {},
     "output_type": "execute_result"
    }
   ],
   "source": [
    "len(df[df['disease'] == 'D047928'])"
   ]
  },
  {
   "cell_type": "code",
   "execution_count": 91,
   "metadata": {},
   "outputs": [
    {
     "data": {
      "text/plain": [
       "{'SRP065627', 'SRP066782', 'SRP115697', 'SRP192722'}"
      ]
     },
     "execution_count": 91,
     "metadata": {},
     "output_type": "execute_result"
    }
   ],
   "source": [
    "set(new_df['our_project_id'].values.tolist())"
   ]
  },
  {
   "cell_type": "code",
   "execution_count": 40,
   "metadata": {},
   "outputs": [],
   "source": [
    "pd.set_option('display.max_rows', None)\n",
    "\n",
    "# To display all columns\n",
    "pd.set_option('display.max_columns', None)"
   ]
  },
  {
   "cell_type": "code",
   "execution_count": 92,
   "metadata": {},
   "outputs": [
    {
     "data": {
      "text/plain": [
       "(170, 9)"
      ]
     },
     "execution_count": 92,
     "metadata": {},
     "output_type": "execute_result"
    }
   ],
   "source": [
    "new_df[new_df['our_project_id']=='SRP192722'].shape"
   ]
  },
  {
   "cell_type": "code",
   "execution_count": 27,
   "metadata": {},
   "outputs": [],
   "source": [
    "l = new_df[new_df['our_project_id']=='SRP002424']['BMI'].values.tolist()"
   ]
  },
  {
   "cell_type": "code",
   "execution_count": 28,
   "metadata": {},
   "outputs": [
    {
     "name": "stdout",
     "output_type": "stream",
     "text": [
      "[nan, nan, nan, nan, nan, nan, nan, nan, nan, nan, nan, nan, nan, nan, nan, nan, nan, nan, nan, nan, nan, nan, nan, nan, nan, nan, nan, nan, nan, nan, nan, nan, nan, nan, nan, nan, nan, nan, nan, nan, nan, nan, nan, nan, nan, nan, nan, nan, nan, nan, nan, nan, nan, nan, nan, nan, nan, nan, nan, nan, nan, nan, nan, nan, nan, nan, nan, nan, nan, nan, nan, nan, nan, nan, nan, nan]\n"
     ]
    }
   ],
   "source": [
    "print(l)"
   ]
  },
  {
   "cell_type": "code",
   "execution_count": 4,
   "metadata": {},
   "outputs": [
    {
     "name": "stdout",
     "output_type": "stream",
     "text": [
      "                            run_id BodySite our_project_id   sex host_age  \\\n",
      "our_project_id                                                              \n",
      "ERP016180      count           274      274            274   274        0   \n",
      "               unique          274        2              1     2        0   \n",
      "               top      ERR1466857     Oral      ERP016180  Male      NaN   \n",
      "               freq              1      145            274   141      NaN   \n",
      "ERP104791      count           138      138            138     0        0   \n",
      "...                            ...      ...            ...   ...      ...   \n",
      "SRP241991      freq              1       89             89   NaN      NaN   \n",
      "SRP251660      count           406      406            406     0        0   \n",
      "               unique          406        1              1     0        0   \n",
      "               top     SRR11241833     Skin      SRP251660   NaN      NaN   \n",
      "               freq              1      406            406   NaN      NaN   \n",
      "\n",
      "                       BMI  country instrument_model  disease  \n",
      "our_project_id                                                 \n",
      "ERP016180      count     0      274              274      274  \n",
      "               unique    0        1                1        2  \n",
      "               top     NaN  Finland         Illumina  D010300  \n",
      "               freq    NaN      274              274      139  \n",
      "ERP104791      count     0        0              138      138  \n",
      "...                    ...      ...              ...      ...  \n",
      "SRP241991      freq    NaN       89               89       89  \n",
      "SRP251660      count     0      406              406      406  \n",
      "               unique    0        1                1        1  \n",
      "               top     NaN    China         Illumina  D006262  \n",
      "               freq    NaN      406              406      406  \n",
      "\n",
      "[224 rows x 9 columns]\n"
     ]
    }
   ],
   "source": [
    "df = pd.read_csv('Data/metadata.csv')\n",
    "grouped = df.groupby('our_project_id')\n",
    "\n",
    "# Function to summarize classifications\n",
    "def summarize_classifications(group):\n",
    "    return group.describe(include='object')\n",
    "\n",
    "# Apply the summary function to each group\n",
    "summary = grouped.apply(summarize_classifications)\n",
    "\n",
    "print(summary)"
   ]
  },
  {
   "cell_type": "code",
   "execution_count": 5,
   "metadata": {},
   "outputs": [
    {
     "data": {
      "text/html": [
       "<div>\n",
       "<style scoped>\n",
       "    .dataframe tbody tr th:only-of-type {\n",
       "        vertical-align: middle;\n",
       "    }\n",
       "\n",
       "    .dataframe tbody tr th {\n",
       "        vertical-align: top;\n",
       "    }\n",
       "\n",
       "    .dataframe thead th {\n",
       "        text-align: right;\n",
       "    }\n",
       "</style>\n",
       "<table border=\"1\" class=\"dataframe\">\n",
       "  <thead>\n",
       "    <tr style=\"text-align: right;\">\n",
       "      <th></th>\n",
       "      <th></th>\n",
       "      <th>run_id</th>\n",
       "      <th>BodySite</th>\n",
       "      <th>our_project_id</th>\n",
       "      <th>sex</th>\n",
       "      <th>host_age</th>\n",
       "      <th>BMI</th>\n",
       "      <th>country</th>\n",
       "      <th>instrument_model</th>\n",
       "      <th>disease</th>\n",
       "    </tr>\n",
       "    <tr>\n",
       "      <th>our_project_id</th>\n",
       "      <th></th>\n",
       "      <th></th>\n",
       "      <th></th>\n",
       "      <th></th>\n",
       "      <th></th>\n",
       "      <th></th>\n",
       "      <th></th>\n",
       "      <th></th>\n",
       "      <th></th>\n",
       "      <th></th>\n",
       "    </tr>\n",
       "  </thead>\n",
       "  <tbody>\n",
       "    <tr>\n",
       "      <th rowspan=\"4\" valign=\"top\">ERP016180</th>\n",
       "      <th>count</th>\n",
       "      <td>274</td>\n",
       "      <td>274</td>\n",
       "      <td>274</td>\n",
       "      <td>274</td>\n",
       "      <td>0</td>\n",
       "      <td>0</td>\n",
       "      <td>274</td>\n",
       "      <td>274</td>\n",
       "      <td>274</td>\n",
       "    </tr>\n",
       "    <tr>\n",
       "      <th>unique</th>\n",
       "      <td>274</td>\n",
       "      <td>2</td>\n",
       "      <td>1</td>\n",
       "      <td>2</td>\n",
       "      <td>0</td>\n",
       "      <td>0</td>\n",
       "      <td>1</td>\n",
       "      <td>1</td>\n",
       "      <td>2</td>\n",
       "    </tr>\n",
       "    <tr>\n",
       "      <th>top</th>\n",
       "      <td>ERR1466857</td>\n",
       "      <td>Oral</td>\n",
       "      <td>ERP016180</td>\n",
       "      <td>Male</td>\n",
       "      <td>NaN</td>\n",
       "      <td>NaN</td>\n",
       "      <td>Finland</td>\n",
       "      <td>Illumina</td>\n",
       "      <td>D010300</td>\n",
       "    </tr>\n",
       "    <tr>\n",
       "      <th>freq</th>\n",
       "      <td>1</td>\n",
       "      <td>145</td>\n",
       "      <td>274</td>\n",
       "      <td>141</td>\n",
       "      <td>NaN</td>\n",
       "      <td>NaN</td>\n",
       "      <td>274</td>\n",
       "      <td>274</td>\n",
       "      <td>139</td>\n",
       "    </tr>\n",
       "    <tr>\n",
       "      <th>ERP104791</th>\n",
       "      <th>count</th>\n",
       "      <td>138</td>\n",
       "      <td>138</td>\n",
       "      <td>138</td>\n",
       "      <td>0</td>\n",
       "      <td>0</td>\n",
       "      <td>0</td>\n",
       "      <td>0</td>\n",
       "      <td>138</td>\n",
       "      <td>138</td>\n",
       "    </tr>\n",
       "    <tr>\n",
       "      <th>...</th>\n",
       "      <th>...</th>\n",
       "      <td>...</td>\n",
       "      <td>...</td>\n",
       "      <td>...</td>\n",
       "      <td>...</td>\n",
       "      <td>...</td>\n",
       "      <td>...</td>\n",
       "      <td>...</td>\n",
       "      <td>...</td>\n",
       "      <td>...</td>\n",
       "    </tr>\n",
       "    <tr>\n",
       "      <th>SRP241991</th>\n",
       "      <th>freq</th>\n",
       "      <td>1</td>\n",
       "      <td>89</td>\n",
       "      <td>89</td>\n",
       "      <td>NaN</td>\n",
       "      <td>NaN</td>\n",
       "      <td>NaN</td>\n",
       "      <td>89</td>\n",
       "      <td>89</td>\n",
       "      <td>89</td>\n",
       "    </tr>\n",
       "    <tr>\n",
       "      <th rowspan=\"4\" valign=\"top\">SRP251660</th>\n",
       "      <th>count</th>\n",
       "      <td>406</td>\n",
       "      <td>406</td>\n",
       "      <td>406</td>\n",
       "      <td>0</td>\n",
       "      <td>0</td>\n",
       "      <td>0</td>\n",
       "      <td>406</td>\n",
       "      <td>406</td>\n",
       "      <td>406</td>\n",
       "    </tr>\n",
       "    <tr>\n",
       "      <th>unique</th>\n",
       "      <td>406</td>\n",
       "      <td>1</td>\n",
       "      <td>1</td>\n",
       "      <td>0</td>\n",
       "      <td>0</td>\n",
       "      <td>0</td>\n",
       "      <td>1</td>\n",
       "      <td>1</td>\n",
       "      <td>1</td>\n",
       "    </tr>\n",
       "    <tr>\n",
       "      <th>top</th>\n",
       "      <td>SRR11241833</td>\n",
       "      <td>Skin</td>\n",
       "      <td>SRP251660</td>\n",
       "      <td>NaN</td>\n",
       "      <td>NaN</td>\n",
       "      <td>NaN</td>\n",
       "      <td>China</td>\n",
       "      <td>Illumina</td>\n",
       "      <td>D006262</td>\n",
       "    </tr>\n",
       "    <tr>\n",
       "      <th>freq</th>\n",
       "      <td>1</td>\n",
       "      <td>406</td>\n",
       "      <td>406</td>\n",
       "      <td>NaN</td>\n",
       "      <td>NaN</td>\n",
       "      <td>NaN</td>\n",
       "      <td>406</td>\n",
       "      <td>406</td>\n",
       "      <td>406</td>\n",
       "    </tr>\n",
       "  </tbody>\n",
       "</table>\n",
       "<p>224 rows × 9 columns</p>\n",
       "</div>"
      ],
      "text/plain": [
       "                            run_id BodySite our_project_id   sex host_age  \\\n",
       "our_project_id                                                              \n",
       "ERP016180      count           274      274            274   274        0   \n",
       "               unique          274        2              1     2        0   \n",
       "               top      ERR1466857     Oral      ERP016180  Male      NaN   \n",
       "               freq              1      145            274   141      NaN   \n",
       "ERP104791      count           138      138            138     0        0   \n",
       "...                            ...      ...            ...   ...      ...   \n",
       "SRP241991      freq              1       89             89   NaN      NaN   \n",
       "SRP251660      count           406      406            406     0        0   \n",
       "               unique          406        1              1     0        0   \n",
       "               top     SRR11241833     Skin      SRP251660   NaN      NaN   \n",
       "               freq              1      406            406   NaN      NaN   \n",
       "\n",
       "                       BMI  country instrument_model  disease  \n",
       "our_project_id                                                 \n",
       "ERP016180      count     0      274              274      274  \n",
       "               unique    0        1                1        2  \n",
       "               top     NaN  Finland         Illumina  D010300  \n",
       "               freq    NaN      274              274      139  \n",
       "ERP104791      count     0        0              138      138  \n",
       "...                    ...      ...              ...      ...  \n",
       "SRP241991      freq    NaN       89               89       89  \n",
       "SRP251660      count     0      406              406      406  \n",
       "               unique    0        1                1        1  \n",
       "               top     NaN    China         Illumina  D006262  \n",
       "               freq    NaN      406              406      406  \n",
       "\n",
       "[224 rows x 9 columns]"
      ]
     },
     "execution_count": 5,
     "metadata": {},
     "output_type": "execute_result"
    }
   ],
   "source": [
    "summary"
   ]
  },
  {
   "cell_type": "code",
   "execution_count": null,
   "metadata": {},
   "outputs": [],
   "source": []
  }
 ],
 "metadata": {
  "kernelspec": {
   "display_name": "confounder_free",
   "language": "python",
   "name": "python3"
  },
  "language_info": {
   "codemirror_mode": {
    "name": "ipython",
    "version": 3
   },
   "file_extension": ".py",
   "mimetype": "text/x-python",
   "name": "python",
   "nbconvert_exporter": "python",
   "pygments_lexer": "ipython3",
   "version": "3.8.19"
  }
 },
 "nbformat": 4,
 "nbformat_minor": 2
}
