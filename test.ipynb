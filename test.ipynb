{
 "cells": [
  {
   "cell_type": "code",
   "execution_count": 15,
   "metadata": {},
   "outputs": [],
   "source": [
    "import torch\n",
    "import torch.nn as nn\n",
    "\n",
    "class CorrelationCoefficientLoss(nn.Module):\n",
    "    def __init__(self):\n",
    "        super(CorrelationCoefficientLoss, self).__init__()\n",
    "\n",
    "    def forward(self, y_true, y_pred):\n",
    "        x = y_true\n",
    "        y = y_pred\n",
    "\n",
    "        mx = torch.mean(x)\n",
    "        my = torch.mean(y)\n",
    "        xm = x - mx\n",
    "        ym = y - my\n",
    "\n",
    "        r_num = torch.sum(xm * ym)\n",
    "        r_den = torch.sqrt(torch.sum(xm ** 2) * torch.sum(ym ** 2)  + 1e-5)\n",
    "        r = r_num / r_den\n",
    "\n",
    "        r = torch.clamp(r, min=-1.0, max=1.0)\n",
    "        return r ** 2"
   ]
  },
  {
   "cell_type": "code",
   "execution_count": 17,
   "metadata": {},
   "outputs": [
    {
     "name": "stdout",
     "output_type": "stream",
     "text": [
      "Correlation Loss: 0.011050907894968987\n"
     ]
    }
   ],
   "source": [
    "# Example usage\n",
    "# Assuming binary classification with outputs between 0 and 1\n",
    "criterion = CorrelationCoefficientLoss()\n",
    "y_true = torch.tensor([0., 1., 1., 0., 1., 0., 1., 1., 0., 1., 0., 1., 1., 0., 1., 0., 1., 1., 0., 1.])\n",
    "y_pred = torch.tensor([0.0, 0.1, 0.5, 0.5, 0.5, 0.5, 0.5, 0.5, 0.5, 0.5, 0.5, 0.5, 0.5, 0.5, 0.5, 0.5, 0.5, 0.5, 0.5, 0.5])\n",
    "loss = criterion(y_true, y_pred)\n",
    "print(f\"Correlation Loss: {loss.item()}\")"
   ]
  }
 ],
 "metadata": {
  "kernelspec": {
   "display_name": "confounder_free",
   "language": "python",
   "name": "python3"
  },
  "language_info": {
   "codemirror_mode": {
    "name": "ipython",
    "version": 3
   },
   "file_extension": ".py",
   "mimetype": "text/x-python",
   "name": "python",
   "nbconvert_exporter": "python",
   "pygments_lexer": "ipython3",
   "version": "3.8.19"
  }
 },
 "nbformat": 4,
 "nbformat_minor": 2
}
