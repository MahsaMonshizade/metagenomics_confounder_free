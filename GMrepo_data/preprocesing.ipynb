{
 "cells": [
  {
   "cell_type": "code",
   "execution_count": 2,
   "metadata": {},
   "outputs": [],
   "source": [
    "import pandas as pd\n",
    "import numpy as np"
   ]
  },
  {
   "cell_type": "markdown",
   "metadata": {},
   "source": [
    "### UC data"
   ]
  },
  {
   "cell_type": "code",
   "execution_count": 2,
   "metadata": {},
   "outputs": [],
   "source": [
    "metadata = pd.read_csv('all_runs_metadata.tsv', sep= '\\t')"
   ]
  },
  {
   "cell_type": "code",
   "execution_count": 3,
   "metadata": {},
   "outputs": [],
   "source": [
    "uid_map = pd.read_csv('samples_loaded.txt', delimiter = '\\t')"
   ]
  },
  {
   "cell_type": "code",
   "execution_count": 4,
   "metadata": {},
   "outputs": [],
   "source": [
    "merged_metadata = pd.merge(uid_map, metadata, left_on='accession_id', right_on='run_id', how='inner')"
   ]
  },
  {
   "cell_type": "code",
   "execution_count": 5,
   "metadata": {},
   "outputs": [],
   "source": [
    "UC_projects = ['PRJNA50637', 'PRJEB1220', 'PRJNA398089', 'PRJNA389280', 'PRJNA400072', 'PRJNA388210', 'PRJNA285502', 'PRJNA450340', 'PRJNA368966', 'PRJNA438164', 'PRJNA240346', 'PRJDB4871', 'PRJNA318788', 'PRJNA232056', 'PRJNA298762', 'PRJNA233411', 'PRJNA284397', 'PRJNA324147' ] "
   ]
  },
  {
   "cell_type": "code",
   "execution_count": 6,
   "metadata": {},
   "outputs": [],
   "source": [
    "UC_metadata = merged_metadata[merged_metadata['project_id'].isin(UC_projects)]"
   ]
  },
  {
   "cell_type": "code",
   "execution_count": 7,
   "metadata": {},
   "outputs": [],
   "source": [
    "UC_metadata = UC_metadata[UC_metadata['disease'].isin(['D003093', 'D006262'])]"
   ]
  },
  {
   "cell_type": "code",
   "execution_count": 8,
   "metadata": {},
   "outputs": [
    {
     "data": {
      "text/plain": [
       "(3257, 21)"
      ]
     },
     "execution_count": 8,
     "metadata": {},
     "output_type": "execute_result"
    }
   ],
   "source": [
    "UC_metadata.shape"
   ]
  },
  {
   "cell_type": "code",
   "execution_count": 9,
   "metadata": {},
   "outputs": [
    {
     "data": {
      "text/plain": [
       "experiment_type\n",
       "Amplicon        2046\n",
       "Metagenomics    1159\n",
       "metagenomics      52\n",
       "Name: count, dtype: int64"
      ]
     },
     "execution_count": 9,
     "metadata": {},
     "output_type": "execute_result"
    }
   ],
   "source": [
    "UC_metadata['experiment_type'].value_counts()"
   ]
  },
  {
   "cell_type": "code",
   "execution_count": 10,
   "metadata": {},
   "outputs": [],
   "source": [
    "UC_metadata_amplicon = UC_metadata[UC_metadata['experiment_type'].isin(['Amplicon', 'AMPLICON'])]"
   ]
  },
  {
   "cell_type": "code",
   "execution_count": 11,
   "metadata": {},
   "outputs": [],
   "source": [
    "UC_metadata_metagenomics = UC_metadata[UC_metadata['experiment_type'].isin(['metagenomics', 'Metagenomics'])]"
   ]
  },
  {
   "cell_type": "code",
   "execution_count": 12,
   "metadata": {},
   "outputs": [],
   "source": [
    "relative_abundance = pd.read_csv('relative_abundance.csv')"
   ]
  },
  {
   "cell_type": "code",
   "execution_count": 13,
   "metadata": {},
   "outputs": [
    {
     "data": {
      "text/html": [
       "<div>\n",
       "<style scoped>\n",
       "    .dataframe tbody tr th:only-of-type {\n",
       "        vertical-align: middle;\n",
       "    }\n",
       "\n",
       "    .dataframe tbody tr th {\n",
       "        vertical-align: top;\n",
       "    }\n",
       "\n",
       "    .dataframe thead th {\n",
       "        text-align: right;\n",
       "    }\n",
       "</style>\n",
       "<table border=\"1\" class=\"dataframe\">\n",
       "  <thead>\n",
       "    <tr style=\"text-align: right;\">\n",
       "      <th></th>\n",
       "      <th>loaded_uid</th>\n",
       "      <th>6</th>\n",
       "      <th>7</th>\n",
       "      <th>9</th>\n",
       "      <th>10</th>\n",
       "      <th>11</th>\n",
       "      <th>13</th>\n",
       "      <th>14</th>\n",
       "      <th>16</th>\n",
       "      <th>17</th>\n",
       "      <th>...</th>\n",
       "      <th>2211641</th>\n",
       "      <th>2212691</th>\n",
       "      <th>2212731</th>\n",
       "      <th>2282523</th>\n",
       "      <th>2282740</th>\n",
       "      <th>2282741</th>\n",
       "      <th>2282742</th>\n",
       "      <th>2304691</th>\n",
       "      <th>2304692</th>\n",
       "      <th>2529408</th>\n",
       "    </tr>\n",
       "  </thead>\n",
       "  <tbody>\n",
       "    <tr>\n",
       "      <th>0</th>\n",
       "      <td>1</td>\n",
       "      <td>0.0</td>\n",
       "      <td>0.0</td>\n",
       "      <td>0.0</td>\n",
       "      <td>0.0</td>\n",
       "      <td>0.0</td>\n",
       "      <td>0.0</td>\n",
       "      <td>0.0</td>\n",
       "      <td>0.0</td>\n",
       "      <td>0.0</td>\n",
       "      <td>...</td>\n",
       "      <td>0.0</td>\n",
       "      <td>0.0</td>\n",
       "      <td>0.0</td>\n",
       "      <td>0.0</td>\n",
       "      <td>0.0</td>\n",
       "      <td>0.0</td>\n",
       "      <td>0.0</td>\n",
       "      <td>0.0</td>\n",
       "      <td>0.0</td>\n",
       "      <td>0.0</td>\n",
       "    </tr>\n",
       "    <tr>\n",
       "      <th>1</th>\n",
       "      <td>2</td>\n",
       "      <td>0.0</td>\n",
       "      <td>0.0</td>\n",
       "      <td>0.0</td>\n",
       "      <td>0.0</td>\n",
       "      <td>0.0</td>\n",
       "      <td>0.0</td>\n",
       "      <td>0.0</td>\n",
       "      <td>0.0</td>\n",
       "      <td>0.0</td>\n",
       "      <td>...</td>\n",
       "      <td>0.0</td>\n",
       "      <td>0.0</td>\n",
       "      <td>0.0</td>\n",
       "      <td>0.0</td>\n",
       "      <td>0.0</td>\n",
       "      <td>0.0</td>\n",
       "      <td>0.0</td>\n",
       "      <td>0.0</td>\n",
       "      <td>0.0</td>\n",
       "      <td>0.0</td>\n",
       "    </tr>\n",
       "    <tr>\n",
       "      <th>2</th>\n",
       "      <td>3</td>\n",
       "      <td>0.0</td>\n",
       "      <td>0.0</td>\n",
       "      <td>0.0</td>\n",
       "      <td>0.0</td>\n",
       "      <td>0.0</td>\n",
       "      <td>0.0</td>\n",
       "      <td>0.0</td>\n",
       "      <td>0.0</td>\n",
       "      <td>0.0</td>\n",
       "      <td>...</td>\n",
       "      <td>0.0</td>\n",
       "      <td>0.0</td>\n",
       "      <td>0.0</td>\n",
       "      <td>0.0</td>\n",
       "      <td>0.0</td>\n",
       "      <td>0.0</td>\n",
       "      <td>0.0</td>\n",
       "      <td>0.0</td>\n",
       "      <td>0.0</td>\n",
       "      <td>0.0</td>\n",
       "    </tr>\n",
       "    <tr>\n",
       "      <th>3</th>\n",
       "      <td>6</td>\n",
       "      <td>0.0</td>\n",
       "      <td>0.0</td>\n",
       "      <td>0.0</td>\n",
       "      <td>0.0</td>\n",
       "      <td>0.0</td>\n",
       "      <td>0.0</td>\n",
       "      <td>0.0</td>\n",
       "      <td>0.0</td>\n",
       "      <td>0.0</td>\n",
       "      <td>...</td>\n",
       "      <td>0.0</td>\n",
       "      <td>0.0</td>\n",
       "      <td>0.0</td>\n",
       "      <td>0.0</td>\n",
       "      <td>0.0</td>\n",
       "      <td>0.0</td>\n",
       "      <td>0.0</td>\n",
       "      <td>0.0</td>\n",
       "      <td>0.0</td>\n",
       "      <td>0.0</td>\n",
       "    </tr>\n",
       "    <tr>\n",
       "      <th>4</th>\n",
       "      <td>7</td>\n",
       "      <td>0.0</td>\n",
       "      <td>0.0</td>\n",
       "      <td>0.0</td>\n",
       "      <td>0.0</td>\n",
       "      <td>0.0</td>\n",
       "      <td>0.0</td>\n",
       "      <td>0.0</td>\n",
       "      <td>0.0</td>\n",
       "      <td>0.0</td>\n",
       "      <td>...</td>\n",
       "      <td>0.0</td>\n",
       "      <td>0.0</td>\n",
       "      <td>0.0</td>\n",
       "      <td>0.0</td>\n",
       "      <td>0.0</td>\n",
       "      <td>0.0</td>\n",
       "      <td>0.0</td>\n",
       "      <td>0.0</td>\n",
       "      <td>0.0</td>\n",
       "      <td>0.0</td>\n",
       "    </tr>\n",
       "    <tr>\n",
       "      <th>...</th>\n",
       "      <td>...</td>\n",
       "      <td>...</td>\n",
       "      <td>...</td>\n",
       "      <td>...</td>\n",
       "      <td>...</td>\n",
       "      <td>...</td>\n",
       "      <td>...</td>\n",
       "      <td>...</td>\n",
       "      <td>...</td>\n",
       "      <td>...</td>\n",
       "      <td>...</td>\n",
       "      <td>...</td>\n",
       "      <td>...</td>\n",
       "      <td>...</td>\n",
       "      <td>...</td>\n",
       "      <td>...</td>\n",
       "      <td>...</td>\n",
       "      <td>...</td>\n",
       "      <td>...</td>\n",
       "      <td>...</td>\n",
       "      <td>...</td>\n",
       "    </tr>\n",
       "    <tr>\n",
       "      <th>32239</th>\n",
       "      <td>52855</td>\n",
       "      <td>0.0</td>\n",
       "      <td>0.0</td>\n",
       "      <td>0.0</td>\n",
       "      <td>0.0</td>\n",
       "      <td>0.0</td>\n",
       "      <td>0.0</td>\n",
       "      <td>0.0</td>\n",
       "      <td>0.0</td>\n",
       "      <td>0.0</td>\n",
       "      <td>...</td>\n",
       "      <td>0.0</td>\n",
       "      <td>0.0</td>\n",
       "      <td>0.0</td>\n",
       "      <td>0.0</td>\n",
       "      <td>0.0</td>\n",
       "      <td>0.0</td>\n",
       "      <td>0.0</td>\n",
       "      <td>0.0</td>\n",
       "      <td>0.0</td>\n",
       "      <td>0.0</td>\n",
       "    </tr>\n",
       "    <tr>\n",
       "      <th>32240</th>\n",
       "      <td>52856</td>\n",
       "      <td>0.0</td>\n",
       "      <td>0.0</td>\n",
       "      <td>0.0</td>\n",
       "      <td>0.0</td>\n",
       "      <td>0.0</td>\n",
       "      <td>0.0</td>\n",
       "      <td>0.0</td>\n",
       "      <td>0.0</td>\n",
       "      <td>0.0</td>\n",
       "      <td>...</td>\n",
       "      <td>0.0</td>\n",
       "      <td>0.0</td>\n",
       "      <td>0.0</td>\n",
       "      <td>0.0</td>\n",
       "      <td>0.0</td>\n",
       "      <td>0.0</td>\n",
       "      <td>0.0</td>\n",
       "      <td>0.0</td>\n",
       "      <td>0.0</td>\n",
       "      <td>0.0</td>\n",
       "    </tr>\n",
       "    <tr>\n",
       "      <th>32241</th>\n",
       "      <td>52857</td>\n",
       "      <td>0.0</td>\n",
       "      <td>0.0</td>\n",
       "      <td>0.0</td>\n",
       "      <td>0.0</td>\n",
       "      <td>0.0</td>\n",
       "      <td>0.0</td>\n",
       "      <td>0.0</td>\n",
       "      <td>0.0</td>\n",
       "      <td>0.0</td>\n",
       "      <td>...</td>\n",
       "      <td>0.0</td>\n",
       "      <td>0.0</td>\n",
       "      <td>0.0</td>\n",
       "      <td>0.0</td>\n",
       "      <td>0.0</td>\n",
       "      <td>0.0</td>\n",
       "      <td>0.0</td>\n",
       "      <td>0.0</td>\n",
       "      <td>0.0</td>\n",
       "      <td>0.0</td>\n",
       "    </tr>\n",
       "    <tr>\n",
       "      <th>32242</th>\n",
       "      <td>52858</td>\n",
       "      <td>0.0</td>\n",
       "      <td>0.0</td>\n",
       "      <td>0.0</td>\n",
       "      <td>0.0</td>\n",
       "      <td>0.0</td>\n",
       "      <td>0.0</td>\n",
       "      <td>0.0</td>\n",
       "      <td>0.0</td>\n",
       "      <td>0.0</td>\n",
       "      <td>...</td>\n",
       "      <td>0.0</td>\n",
       "      <td>0.0</td>\n",
       "      <td>0.0</td>\n",
       "      <td>0.0</td>\n",
       "      <td>0.0</td>\n",
       "      <td>0.0</td>\n",
       "      <td>0.0</td>\n",
       "      <td>0.0</td>\n",
       "      <td>0.0</td>\n",
       "      <td>0.0</td>\n",
       "    </tr>\n",
       "    <tr>\n",
       "      <th>32243</th>\n",
       "      <td>52859</td>\n",
       "      <td>0.0</td>\n",
       "      <td>0.0</td>\n",
       "      <td>0.0</td>\n",
       "      <td>0.0</td>\n",
       "      <td>0.0</td>\n",
       "      <td>0.0</td>\n",
       "      <td>0.0</td>\n",
       "      <td>0.0</td>\n",
       "      <td>0.0</td>\n",
       "      <td>...</td>\n",
       "      <td>0.0</td>\n",
       "      <td>0.0</td>\n",
       "      <td>0.0</td>\n",
       "      <td>0.0</td>\n",
       "      <td>0.0</td>\n",
       "      <td>0.0</td>\n",
       "      <td>0.0</td>\n",
       "      <td>0.0</td>\n",
       "      <td>0.0</td>\n",
       "      <td>0.0</td>\n",
       "    </tr>\n",
       "  </tbody>\n",
       "</table>\n",
       "<p>32244 rows × 8600 columns</p>\n",
       "</div>"
      ],
      "text/plain": [
       "       loaded_uid    6    7    9   10   11   13   14   16   17  ...  2211641  \\\n",
       "0               1  0.0  0.0  0.0  0.0  0.0  0.0  0.0  0.0  0.0  ...      0.0   \n",
       "1               2  0.0  0.0  0.0  0.0  0.0  0.0  0.0  0.0  0.0  ...      0.0   \n",
       "2               3  0.0  0.0  0.0  0.0  0.0  0.0  0.0  0.0  0.0  ...      0.0   \n",
       "3               6  0.0  0.0  0.0  0.0  0.0  0.0  0.0  0.0  0.0  ...      0.0   \n",
       "4               7  0.0  0.0  0.0  0.0  0.0  0.0  0.0  0.0  0.0  ...      0.0   \n",
       "...           ...  ...  ...  ...  ...  ...  ...  ...  ...  ...  ...      ...   \n",
       "32239       52855  0.0  0.0  0.0  0.0  0.0  0.0  0.0  0.0  0.0  ...      0.0   \n",
       "32240       52856  0.0  0.0  0.0  0.0  0.0  0.0  0.0  0.0  0.0  ...      0.0   \n",
       "32241       52857  0.0  0.0  0.0  0.0  0.0  0.0  0.0  0.0  0.0  ...      0.0   \n",
       "32242       52858  0.0  0.0  0.0  0.0  0.0  0.0  0.0  0.0  0.0  ...      0.0   \n",
       "32243       52859  0.0  0.0  0.0  0.0  0.0  0.0  0.0  0.0  0.0  ...      0.0   \n",
       "\n",
       "       2212691  2212731  2282523  2282740  2282741  2282742  2304691  2304692  \\\n",
       "0          0.0      0.0      0.0      0.0      0.0      0.0      0.0      0.0   \n",
       "1          0.0      0.0      0.0      0.0      0.0      0.0      0.0      0.0   \n",
       "2          0.0      0.0      0.0      0.0      0.0      0.0      0.0      0.0   \n",
       "3          0.0      0.0      0.0      0.0      0.0      0.0      0.0      0.0   \n",
       "4          0.0      0.0      0.0      0.0      0.0      0.0      0.0      0.0   \n",
       "...        ...      ...      ...      ...      ...      ...      ...      ...   \n",
       "32239      0.0      0.0      0.0      0.0      0.0      0.0      0.0      0.0   \n",
       "32240      0.0      0.0      0.0      0.0      0.0      0.0      0.0      0.0   \n",
       "32241      0.0      0.0      0.0      0.0      0.0      0.0      0.0      0.0   \n",
       "32242      0.0      0.0      0.0      0.0      0.0      0.0      0.0      0.0   \n",
       "32243      0.0      0.0      0.0      0.0      0.0      0.0      0.0      0.0   \n",
       "\n",
       "       2529408  \n",
       "0          0.0  \n",
       "1          0.0  \n",
       "2          0.0  \n",
       "3          0.0  \n",
       "4          0.0  \n",
       "...        ...  \n",
       "32239      0.0  \n",
       "32240      0.0  \n",
       "32241      0.0  \n",
       "32242      0.0  \n",
       "32243      0.0  \n",
       "\n",
       "[32244 rows x 8600 columns]"
      ]
     },
     "execution_count": 13,
     "metadata": {},
     "output_type": "execute_result"
    }
   ],
   "source": [
    "relative_abundance"
   ]
  },
  {
   "cell_type": "code",
   "execution_count": 14,
   "metadata": {},
   "outputs": [
    {
     "name": "stdout",
     "output_type": "stream",
     "text": [
      "810\n"
     ]
    }
   ],
   "source": [
    "# Step 1: Find common UIDs between the two DataFrames\n",
    "common_uids_amplicon = set(relative_abundance['loaded_uid']).intersection(set(UC_metadata_amplicon['uid']))\n",
    "\n",
    "print(len(common_uids_amplicon))\n",
    "\n",
    "# Step 2: Filter both DataFrames to keep only the rows with common UIDs\n",
    "UC_relative_abundance_amplicon = relative_abundance[relative_abundance['loaded_uid'].isin(common_uids_amplicon)]\n",
    "UC_metadata_amplicon = UC_metadata_amplicon[UC_metadata_amplicon['uid'].isin(common_uids_amplicon)]\n",
    "\n",
    "# # Step 3: Sort both DataFrames by the same order of UIDs\n",
    "# # First, sort the common_uids list to define the order\n",
    "common_uids_sorted = sorted(common_uids_amplicon)\n",
    "\n",
    "# # Reindex both DataFrames to ensure they follow the same order\n",
    "UC_relative_abundance_amplicon = UC_relative_abundance_amplicon.set_index('loaded_uid').loc[common_uids_sorted].reset_index()\n",
    "UC_metadata_amplicon = UC_metadata_amplicon.set_index('uid').loc[common_uids_sorted].reset_index()"
   ]
  },
  {
   "cell_type": "code",
   "execution_count": 15,
   "metadata": {},
   "outputs": [
    {
     "name": "stdout",
     "output_type": "stream",
     "text": [
      "998\n"
     ]
    }
   ],
   "source": [
    "# Step 1: Find common UIDs between the two DataFrames\n",
    "common_uids_metagenomics = set(relative_abundance['loaded_uid']).intersection(set(UC_metadata_metagenomics['uid']))\n",
    "\n",
    "print(len(common_uids_metagenomics))\n",
    "\n",
    "# Step 2: Filter both DataFrames to keep only the rows with common UIDs\n",
    "UC_relative_abundance_metagenomics = relative_abundance[relative_abundance['loaded_uid'].isin(common_uids_metagenomics)]\n",
    "UC_metadata_metagenomics = UC_metadata_metagenomics[UC_metadata_metagenomics['uid'].isin(common_uids_metagenomics)]\n",
    "\n",
    "# # Step 3: Sort both DataFrames by the same order of UIDs\n",
    "# # First, sort the common_uids list to define the order\n",
    "common_uids_sorted = sorted(common_uids_metagenomics)\n",
    "\n",
    "# # Reindex both DataFrames to ensure they follow the same order\n",
    "UC_relative_abundance_metagenomics = UC_relative_abundance_metagenomics.set_index('loaded_uid').loc[common_uids_sorted].reset_index()\n",
    "UC_metadata_metagenomics = UC_metadata_metagenomics.set_index('uid').loc[common_uids_sorted].reset_index()"
   ]
  },
  {
   "cell_type": "code",
   "execution_count": 16,
   "metadata": {},
   "outputs": [
    {
     "data": {
      "text/plain": [
       "(810, 21)"
      ]
     },
     "execution_count": 16,
     "metadata": {},
     "output_type": "execute_result"
    }
   ],
   "source": [
    "UC_metadata_amplicon.shape"
   ]
  },
  {
   "cell_type": "code",
   "execution_count": 17,
   "metadata": {},
   "outputs": [
    {
     "data": {
      "text/plain": [
       "disease\n",
       "D003093    724\n",
       "D006262     86\n",
       "Name: count, dtype: int64"
      ]
     },
     "execution_count": 17,
     "metadata": {},
     "output_type": "execute_result"
    }
   ],
   "source": [
    "UC_metadata_amplicon['disease'].value_counts()"
   ]
  },
  {
   "cell_type": "code",
   "execution_count": 18,
   "metadata": {},
   "outputs": [
    {
     "data": {
      "text/plain": [
       "disease\n",
       "D006262    540\n",
       "D003093    525\n",
       "Name: count, dtype: int64"
      ]
     },
     "execution_count": 18,
     "metadata": {},
     "output_type": "execute_result"
    }
   ],
   "source": [
    "UC_metadata_metagenomics['disease'].value_counts()"
   ]
  },
  {
   "cell_type": "code",
   "execution_count": 19,
   "metadata": {},
   "outputs": [
    {
     "data": {
      "text/plain": [
       "project_id\n",
       "PRJEB1220      700\n",
       "PRJNA389280    215\n",
       "PRJNA50637      90\n",
       "PRJNA285502     52\n",
       "PRJNA438164      8\n",
       "Name: count, dtype: int64"
      ]
     },
     "execution_count": 19,
     "metadata": {},
     "output_type": "execute_result"
    }
   ],
   "source": [
    "UC_metadata_metagenomics['project_id'].value_counts()"
   ]
  },
  {
   "cell_type": "markdown",
   "metadata": {},
   "source": [
    "remove relative abundance columns that all are 0\n",
    "\n",
    "check for correct BMI and age\n",
    "\n",
    "split to train and test"
   ]
  },
  {
   "cell_type": "code",
   "execution_count": 20,
   "metadata": {},
   "outputs": [
    {
     "data": {
      "text/plain": [
       "(998, 8600)"
      ]
     },
     "execution_count": 20,
     "metadata": {},
     "output_type": "execute_result"
    }
   ],
   "source": [
    "UC_relative_abundance_metagenomics.shape"
   ]
  },
  {
   "cell_type": "code",
   "execution_count": 21,
   "metadata": {},
   "outputs": [
    {
     "data": {
      "text/plain": [
       "(1065, 21)"
      ]
     },
     "execution_count": 21,
     "metadata": {},
     "output_type": "execute_result"
    }
   ],
   "source": [
    "UC_metadata_metagenomics.shape"
   ]
  },
  {
   "cell_type": "code",
   "execution_count": 22,
   "metadata": {},
   "outputs": [],
   "source": [
    "UC_relative_abundance_metagenomics = UC_relative_abundance_metagenomics.loc[:, (UC_relative_abundance_metagenomics != 0).any(axis=0)]"
   ]
  },
  {
   "cell_type": "code",
   "execution_count": 23,
   "metadata": {},
   "outputs": [
    {
     "data": {
      "text/plain": [
       "(998, 700)"
      ]
     },
     "execution_count": 23,
     "metadata": {},
     "output_type": "execute_result"
    }
   ],
   "source": [
    "UC_relative_abundance_metagenomics.shape"
   ]
  },
  {
   "cell_type": "code",
   "execution_count": 24,
   "metadata": {},
   "outputs": [],
   "source": [
    "UC_metadata_metagenomics = UC_metadata_metagenomics[UC_metadata_metagenomics['accession_id'].map(UC_metadata_metagenomics['accession_id'].value_counts()) == 1]"
   ]
  },
  {
   "cell_type": "code",
   "execution_count": 25,
   "metadata": {},
   "outputs": [
    {
     "name": "stdout",
     "output_type": "stream",
     "text": [
      "931\n"
     ]
    }
   ],
   "source": [
    "# Step 1: Find common UIDs between the two DataFrames\n",
    "common_uids_metagenomics = set(UC_relative_abundance_metagenomics['loaded_uid']).intersection(set(UC_metadata_metagenomics['uid']))\n",
    "\n",
    "print(len(common_uids_metagenomics))\n",
    "\n",
    "# Step 2: Filter both DataFrames to keep only the rows with common UIDs\n",
    "UC_relative_abundance_metagenomics = UC_relative_abundance_metagenomics[UC_relative_abundance_metagenomics['loaded_uid'].isin(common_uids_metagenomics)]\n",
    "\n",
    "# # Step 3: Sort both DataFrames by the same order of UIDs\n",
    "# # First, sort the common_uids list to define the order\n",
    "common_uids_sorted = sorted(common_uids_metagenomics)\n",
    "\n",
    "# # Reindex both DataFrames to ensure they follow the same order\n",
    "UC_relative_abundance_metagenomics = UC_relative_abundance_metagenomics.set_index('loaded_uid').loc[common_uids_sorted].reset_index()\n",
    "UC_metadata_metagenomics = UC_metadata_metagenomics.set_index('uid').loc[common_uids_sorted].reset_index()"
   ]
  },
  {
   "cell_type": "code",
   "execution_count": 26,
   "metadata": {},
   "outputs": [
    {
     "data": {
      "text/plain": [
       "(931, 700)"
      ]
     },
     "execution_count": 26,
     "metadata": {},
     "output_type": "execute_result"
    }
   ],
   "source": [
    "UC_relative_abundance_metagenomics.shape"
   ]
  },
  {
   "cell_type": "code",
   "execution_count": 27,
   "metadata": {},
   "outputs": [
    {
     "data": {
      "text/plain": [
       "(931, 21)"
      ]
     },
     "execution_count": 27,
     "metadata": {},
     "output_type": "execute_result"
    }
   ],
   "source": [
    "UC_metadata_metagenomics.shape"
   ]
  },
  {
   "cell_type": "code",
   "execution_count": 28,
   "metadata": {},
   "outputs": [
    {
     "data": {
      "text/plain": [
       "project_id\n",
       "PRJEB1220      700\n",
       "PRJNA50637      90\n",
       "PRJNA389280     81\n",
       "PRJNA285502     52\n",
       "PRJNA438164      8\n",
       "Name: count, dtype: int64"
      ]
     },
     "execution_count": 28,
     "metadata": {},
     "output_type": "execute_result"
    }
   ],
   "source": [
    "UC_metadata_metagenomics['project_id'].value_counts()"
   ]
  },
  {
   "cell_type": "code",
   "execution_count": 29,
   "metadata": {},
   "outputs": [],
   "source": [
    "UC_metadata_metagenomics.to_csv('UC_metadata_metagenomics.csv', index = False)"
   ]
  },
  {
   "cell_type": "code",
   "execution_count": 30,
   "metadata": {},
   "outputs": [],
   "source": [
    "UC_relative_abundance_metagenomics.to_csv('UC_relative_abundance_metagenomics.csv', index = False)"
   ]
  },
  {
   "cell_type": "markdown",
   "metadata": {},
   "source": [
    "### train/test"
   ]
  },
  {
   "cell_type": "code",
   "execution_count": 1,
   "metadata": {},
   "outputs": [
    {
     "ename": "NameError",
     "evalue": "name 'pd' is not defined",
     "output_type": "error",
     "traceback": [
      "\u001b[0;31m---------------------------------------------------------------------------\u001b[0m",
      "\u001b[0;31mNameError\u001b[0m                                 Traceback (most recent call last)",
      "Cell \u001b[0;32mIn[1], line 1\u001b[0m\n\u001b[0;32m----> 1\u001b[0m UC_metadata_metagenomics \u001b[38;5;241m=\u001b[39m \u001b[43mpd\u001b[49m\u001b[38;5;241m.\u001b[39mread_csv(\u001b[38;5;124m'\u001b[39m\u001b[38;5;124mUC_metadata_metagenomics.csv\u001b[39m\u001b[38;5;124m'\u001b[39m)\n\u001b[1;32m      2\u001b[0m UC_relative_abundance_metagenomics \u001b[38;5;241m=\u001b[39m pd\u001b[38;5;241m.\u001b[39mread_csv(\u001b[38;5;124m'\u001b[39m\u001b[38;5;124mUC_relative_abundance_metagenomics.csv\u001b[39m\u001b[38;5;124m'\u001b[39m)\n",
      "\u001b[0;31mNameError\u001b[0m: name 'pd' is not defined"
     ]
    }
   ],
   "source": [
    "UC_metadata_metagenomics = pd.read_csv('UC_metadata_metagenomics.csv')\n",
    "UC_relative_abundance_metagenomics = pd.read_csv('UC_relative_abundance_metagenomics.csv')"
   ]
  },
  {
   "cell_type": "code",
   "execution_count": 3,
   "metadata": {},
   "outputs": [],
   "source": [
    "UC_metadata_metagenomics_train = UC_metadata_metagenomics[UC_metadata_metagenomics['project_id']=='PRJEB1220']"
   ]
  },
  {
   "cell_type": "code",
   "execution_count": 4,
   "metadata": {},
   "outputs": [],
   "source": [
    "UC_metadata_metagenomics_train = UC_metadata_metagenomics_train[UC_metadata_metagenomics_train['host_age']>=1]"
   ]
  },
  {
   "cell_type": "code",
   "execution_count": 5,
   "metadata": {},
   "outputs": [
    {
     "data": {
      "text/plain": [
       "(699, 21)"
      ]
     },
     "execution_count": 5,
     "metadata": {},
     "output_type": "execute_result"
    }
   ],
   "source": [
    "UC_metadata_metagenomics_train.shape"
   ]
  },
  {
   "cell_type": "code",
   "execution_count": 6,
   "metadata": {},
   "outputs": [
    {
     "name": "stdout",
     "output_type": "stream",
     "text": [
      "699\n"
     ]
    }
   ],
   "source": [
    "# Step 1: Find common UIDs between the two DataFrames\n",
    "common_uids_metagenomics_train = set(UC_relative_abundance_metagenomics['loaded_uid']).intersection(set(UC_metadata_metagenomics_train['uid']))\n",
    "\n",
    "print(len(common_uids_metagenomics_train))\n",
    "\n",
    "# Step 2: Filter both DataFrames to keep only the rows with common UIDs\n",
    "UC_relative_abundance_metagenomics_train = UC_relative_abundance_metagenomics[UC_relative_abundance_metagenomics['loaded_uid'].isin(common_uids_metagenomics_train)]\n",
    "\n",
    "# # Step 3: Sort both DataFrames by the same order of UIDs\n",
    "# # First, sort the common_uids list to define the order\n",
    "common_uids_sorted = sorted(common_uids_metagenomics_train)\n",
    "\n",
    "# # Reindex both DataFrames to ensure they follow the same order\n",
    "UC_relative_abundance_metagenomics_train = UC_relative_abundance_metagenomics_train.set_index('loaded_uid').loc[common_uids_sorted].reset_index()\n",
    "UC_metadata_metagenomics_train = UC_metadata_metagenomics_train.set_index('uid').loc[common_uids_sorted].reset_index()"
   ]
  },
  {
   "cell_type": "code",
   "execution_count": 7,
   "metadata": {},
   "outputs": [
    {
     "data": {
      "text/plain": [
       "(699, 21)"
      ]
     },
     "execution_count": 7,
     "metadata": {},
     "output_type": "execute_result"
    }
   ],
   "source": [
    "UC_relative_abundance_metagenomics_train.shape\n",
    "UC_metadata_metagenomics_train.shape"
   ]
  },
  {
   "cell_type": "code",
   "execution_count": 15,
   "metadata": {},
   "outputs": [
    {
     "data": {
      "text/plain": [
       "sex\n",
       "Female    396\n",
       "Male      303\n",
       "Name: count, dtype: int64"
      ]
     },
     "execution_count": 15,
     "metadata": {},
     "output_type": "execute_result"
    }
   ],
   "source": [
    "UC_metadata_metagenomics_train['sex'].value_counts()"
   ]
  },
  {
   "cell_type": "code",
   "execution_count": 8,
   "metadata": {},
   "outputs": [],
   "source": [
    "UC_relative_abundance_metagenomics_train.to_csv('UC_relative_abundance_metagenomics_train.csv', index=False)\n",
    "UC_metadata_metagenomics_train.to_csv('UC_metadata_metagenomics_train.csv', index=False)"
   ]
  },
  {
   "cell_type": "code",
   "execution_count": 9,
   "metadata": {},
   "outputs": [],
   "source": [
    "UC_metadata_metagenomics_test = UC_metadata_metagenomics[UC_metadata_metagenomics['project_id']!='PRJEB1220']"
   ]
  },
  {
   "cell_type": "code",
   "execution_count": 10,
   "metadata": {},
   "outputs": [
    {
     "data": {
      "text/plain": [
       "(231, 21)"
      ]
     },
     "execution_count": 10,
     "metadata": {},
     "output_type": "execute_result"
    }
   ],
   "source": [
    "UC_metadata_metagenomics_test.shape"
   ]
  },
  {
   "cell_type": "code",
   "execution_count": 11,
   "metadata": {},
   "outputs": [
    {
     "name": "stdout",
     "output_type": "stream",
     "text": [
      "231\n"
     ]
    }
   ],
   "source": [
    "# Step 1: Find common UIDs between the two DataFrames\n",
    "common_uids_metagenomics_test = set(UC_relative_abundance_metagenomics['loaded_uid']).intersection(set(UC_metadata_metagenomics_test['uid']))\n",
    "\n",
    "print(len(common_uids_metagenomics_test))\n",
    "\n",
    "# Step 2: Filter both DataFrames to keep only the rows with common UIDs\n",
    "UC_relative_abundance_metagenomics_test = UC_relative_abundance_metagenomics[UC_relative_abundance_metagenomics['loaded_uid'].isin(common_uids_metagenomics_test)]\n",
    "\n",
    "# # Step 3: Sort both DataFrames by the same order of UIDs\n",
    "# # First, sort the common_uids list to define the order\n",
    "common_uids_sorted = sorted(common_uids_metagenomics_test)\n",
    "\n",
    "# # Reindex both DataFrames to ensure they follow the same order\n",
    "UC_relative_abundance_metagenomics_test = UC_relative_abundance_metagenomics_test.set_index('loaded_uid').loc[common_uids_sorted].reset_index()\n",
    "UC_metadata_metagenomics_test = UC_metadata_metagenomics_test.set_index('uid').loc[common_uids_sorted].reset_index()"
   ]
  },
  {
   "cell_type": "code",
   "execution_count": 14,
   "metadata": {},
   "outputs": [],
   "source": [
    "UC_relative_abundance_metagenomics_test.to_csv('UC_relative_abundance_metagenomics_test.csv', index=False)\n",
    "UC_metadata_metagenomics_test.to_csv('UC_metadata_metagenomics_test.csv', index=False)"
   ]
  },
  {
   "cell_type": "markdown",
   "metadata": {},
   "source": [
    "### EDA"
   ]
  },
  {
   "cell_type": "code",
   "execution_count": 3,
   "metadata": {},
   "outputs": [],
   "source": [
    "train_UC = pd.read_csv('UC_metadata_metagenomics_train.csv')"
   ]
  },
  {
   "cell_type": "code",
   "execution_count": 4,
   "metadata": {},
   "outputs": [],
   "source": [
    "test_UC = pd.read_csv('UC_metadata_metagenomics_test.csv')"
   ]
  },
  {
   "cell_type": "code",
   "execution_count": 5,
   "metadata": {},
   "outputs": [
    {
     "data": {
      "text/plain": [
       "disease\n",
       "D006262    475\n",
       "D003093    224\n",
       "Name: count, dtype: int64"
      ]
     },
     "execution_count": 5,
     "metadata": {},
     "output_type": "execute_result"
    }
   ],
   "source": [
    "train_UC['disease'].value_counts()"
   ]
  },
  {
   "cell_type": "code",
   "execution_count": 6,
   "metadata": {},
   "outputs": [
    {
     "data": {
      "text/plain": [
       "disease\n",
       "D003093    167\n",
       "D006262     64\n",
       "Name: count, dtype: int64"
      ]
     },
     "execution_count": 6,
     "metadata": {},
     "output_type": "execute_result"
    }
   ],
   "source": [
    "test_UC['disease'].value_counts()"
   ]
  },
  {
   "cell_type": "code",
   "execution_count": 7,
   "metadata": {},
   "outputs": [
    {
     "data": {
      "text/plain": [
       "699"
      ]
     },
     "execution_count": 7,
     "metadata": {},
     "output_type": "execute_result"
    }
   ],
   "source": [
    "train_UC['host_age'].count()"
   ]
  },
  {
   "cell_type": "code",
   "execution_count": 8,
   "metadata": {},
   "outputs": [
    {
     "data": {
      "text/plain": [
       "80"
      ]
     },
     "execution_count": 8,
     "metadata": {},
     "output_type": "execute_result"
    }
   ],
   "source": [
    "test_UC['host_age'].count()"
   ]
  },
  {
   "cell_type": "code",
   "execution_count": 9,
   "metadata": {},
   "outputs": [
    {
     "data": {
      "text/plain": [
       "sex\n",
       "Female    396\n",
       "Male      303\n",
       "Name: count, dtype: int64"
      ]
     },
     "execution_count": 9,
     "metadata": {},
     "output_type": "execute_result"
    }
   ],
   "source": [
    "train_UC['sex'].value_counts()"
   ]
  },
  {
   "cell_type": "code",
   "execution_count": 10,
   "metadata": {},
   "outputs": [
    {
     "data": {
      "text/plain": [
       "sex\n",
       "Male      96\n",
       "Female    75\n",
       "Name: count, dtype: int64"
      ]
     },
     "execution_count": 10,
     "metadata": {},
     "output_type": "execute_result"
    }
   ],
   "source": [
    "test_UC['sex'].value_counts()"
   ]
  },
  {
   "cell_type": "code",
   "execution_count": 11,
   "metadata": {},
   "outputs": [
    {
     "data": {
      "text/plain": [
       "630"
      ]
     },
     "execution_count": 11,
     "metadata": {},
     "output_type": "execute_result"
    }
   ],
   "source": [
    "train_UC['BMI'].count()"
   ]
  },
  {
   "cell_type": "code",
   "execution_count": 12,
   "metadata": {},
   "outputs": [
    {
     "data": {
      "text/plain": [
       "0"
      ]
     },
     "execution_count": 12,
     "metadata": {},
     "output_type": "execute_result"
    }
   ],
   "source": [
    "test_UC['BMI'].count()"
   ]
  },
  {
   "cell_type": "markdown",
   "metadata": {},
   "source": [
    "### balanced test data"
   ]
  },
  {
   "cell_type": "code",
   "execution_count": 3,
   "metadata": {},
   "outputs": [],
   "source": [
    "test_metadata = pd.read_csv('UC_metadata_metagenomics_test.csv')"
   ]
  },
  {
   "cell_type": "code",
   "execution_count": 4,
   "metadata": {},
   "outputs": [
    {
     "data": {
      "text/plain": [
       "disease\n",
       "D003093    167\n",
       "D006262     64\n",
       "Name: count, dtype: int64"
      ]
     },
     "execution_count": 4,
     "metadata": {},
     "output_type": "execute_result"
    }
   ],
   "source": [
    "test_metadata['disease'].value_counts()"
   ]
  },
  {
   "cell_type": "code",
   "execution_count": 6,
   "metadata": {},
   "outputs": [],
   "source": [
    "# Count occurrences of each value\n",
    "count_D003093 = test_metadata[test_metadata['disease'] == 'D003093'].shape[0]\n",
    "count_D006262 = test_metadata[test_metadata['disease'] == 'D006262'].shape[0]\n",
    "\n",
    "# Determine the number of rows to remove\n",
    "min_count = min(count_D003093, count_D006262)\n",
    "\n",
    "# Sample rows to keep for both categories\n",
    "df_D003093 = test_metadata[test_metadata['disease'] == 'D003093'].sample(min_count, random_state=42)\n",
    "df_D006262 = test_metadata[test_metadata['disease'] == 'D006262'].sample(min_count, random_state=42)\n",
    "\n",
    "# Concatenate the balanced dataset\n",
    "test_metadata_balanced = pd.concat([df_D003093, df_D006262])\n",
    "\n",
    "# Optional: Reset index if needed\n",
    "test_metadata_balanced = test_metadata_balanced.reset_index(drop=True)\n",
    "\n",
    "# test_metadata_balanced\n"
   ]
  },
  {
   "cell_type": "code",
   "execution_count": 7,
   "metadata": {},
   "outputs": [],
   "source": [
    "test_relative_abundance = pd.read_csv(\"UC_relative_abundance_metagenomics_test.csv\")"
   ]
  },
  {
   "cell_type": "code",
   "execution_count": 8,
   "metadata": {},
   "outputs": [
    {
     "name": "stdout",
     "output_type": "stream",
     "text": [
      "128\n"
     ]
    }
   ],
   "source": [
    "# Step 1: Find common UIDs between the two DataFrames\n",
    "common_uids= set(test_metadata_balanced['uid'])\n",
    "\n",
    "print(len(common_uids))\n",
    "\n",
    "# Step 2: Filter both DataFrames to keep only the rows with common UIDs\n",
    "test_relative_abundance_balanced = test_relative_abundance[test_relative_abundance['loaded_uid'].isin(common_uids)]\n",
    "\n",
    "# # Step 3: Sort both DataFrames by the same order of UIDs\n",
    "# # First, sort the common_uids list to define the order\n",
    "common_uids_sorted = sorted(common_uids)\n",
    "\n",
    "# # Reindex both DataFrames to ensure they follow the same order\n",
    "test_relative_abundance_balanced = test_relative_abundance_balanced.set_index('loaded_uid').loc[common_uids_sorted].reset_index()\n",
    "test_metadata_balanced = test_metadata_balanced.set_index('uid').loc[common_uids_sorted].reset_index()"
   ]
  },
  {
   "cell_type": "code",
   "execution_count": 10,
   "metadata": {},
   "outputs": [],
   "source": [
    "test_relative_abundance_balanced.to_csv(\"UC_relative_abundance_metagenomics_test_balanced.csv\", index = False)"
   ]
  },
  {
   "cell_type": "code",
   "execution_count": 11,
   "metadata": {},
   "outputs": [],
   "source": [
    "test_metadata_balanced.to_csv(\"UC_metadata_metagenomics_test_balanced.csv\", index = False)"
   ]
  }
 ],
 "metadata": {
  "kernelspec": {
   "display_name": "confounder_free",
   "language": "python",
   "name": "python3"
  },
  "language_info": {
   "codemirror_mode": {
    "name": "ipython",
    "version": 3
   },
   "file_extension": ".py",
   "mimetype": "text/x-python",
   "name": "python",
   "nbconvert_exporter": "python",
   "pygments_lexer": "ipython3",
   "version": "3.8.19"
  }
 },
 "nbformat": 4,
 "nbformat_minor": 2
}
